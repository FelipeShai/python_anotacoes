{
 "cells": [
  {
   "cell_type": "markdown",
   "metadata": {},
   "source": [
    "SIMPLESMENTE, A FUNÇÃO QUE ME FARÁ NÃO TER PREOCUPAÇÕES EM FECHAR O ARQUIVO COM MÉTODO .close()"
   ]
  },
  {
   "cell_type": "code",
   "execution_count": null,
   "metadata": {},
   "outputs": [],
   "source": [
    "import json\n",
    "# VAMOS ABRIR UM ARQUIVO DE TEXTO USANDO WITH\n",
    "# o with usará o open para abrir o arquivo indicado, dentro do objeto arquivo e fará sozinho o encerramento do acesso quando a última linha de código dentro dele for executada\n",
    "with open(\"C:\\\\Users\\\\felip\\\\Desktop\\\\pasta-arquivo\\\\manipulando_json\\\\dicionario1.txt\",\"r\") as arquivo:\n",
    "# aqui devemos escrever todos os códigos que usam o arquivo aberto, pois após a última linha de código dentro dessa estrutura, o arquivo será automaticamente encerrado\n",
    "    print(arquivo.read())\n",
    "\n",
    "# vamos adicionar um novo contato, agora\n",
    "novocontato = {\n",
    "    \"Jenisclaudo\": {\n",
    "            \"Email\":\"aoksoaks@asdsdds.com.br\",\n",
    "            \"Celular\":\"852963741\"\n",
    "        }\n",
    "}\n",
    "#converte novocontato para dict = novocontatodict\n",
    "novocontatodict = json.dumps(novocontato,indent=2) \n",
    "with open(\"C:\\\\Users\\\\felip\\\\Desktop\\\\pasta-arquivo\\\\manipulando_json\\\\dicionario1.txt\",\"a\") as arquivo:\n",
    "    arquivo.write(novocontatodict)\n",
    "print(\"__________________\")\n",
    "with open(\"C:\\\\Users\\\\felip\\\\Desktop\\\\pasta-arquivo\\\\manipulando_json\\\\dicionario1.txt\",\"r\") as arquivo:\n",
    "    print(arquivo.read())\n"
   ]
  }
 ],
 "metadata": {
  "interpreter": {
   "hash": "83b617c66aa9ed92efeb8629453f4b5eb61ab11a86f5ad7ba589d02897e9d812"
  },
  "kernelspec": {
   "display_name": "Python 3.10.4 64-bit",
   "language": "python",
   "name": "python3"
  },
  "language_info": {
   "name": "python",
   "version": "3.10.4"
  },
  "orig_nbformat": 4
 },
 "nbformat": 4,
 "nbformat_minor": 2
}
