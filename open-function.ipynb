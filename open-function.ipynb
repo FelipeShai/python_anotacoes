{
 "cells": [
  {
   "cell_type": "markdown",
   "metadata": {},
   "source": [
    "<h5> Utilizando função open e identificando tipo do objeto que ele retorna </h5>"
   ]
  },
  {
   "cell_type": "code",
   "execution_count": null,
   "metadata": {},
   "outputs": [],
   "source": [
    "#usando função open, podemos criar um objeto do tipo arquivo\n",
    "arquivo  = open (\"C:\\\\Users\\\\felip\\\\Desktop\\\\pasta-arquivo\\\\arquivo.txt\")\n",
    "\n",
    "#utilizando o type para saber o tipo do objeto do arquivo\n",
    "print(type(arquivo))"
   ]
  },
  {
   "cell_type": "markdown",
   "metadata": {},
   "source": [
    "<h5> Exibindo conteúdo referente ao .txt </h5>"
   ]
  },
  {
   "cell_type": "code",
   "execution_count": null,
   "metadata": {},
   "outputs": [],
   "source": [
    "arquivo  = open (\"C:\\\\Users\\\\felip\\\\Desktop\\\\pasta-arquivo\\\\arquivo.txt\")\n",
    "\n",
    "#printando conteúdo dentro do objeto arquivo\n",
    "print(arquivo)\n",
    "\n",
    "#como resultado, aparecerá o nome do arquivo, modo de abertura e o tipo de codificação"
   ]
  },
  {
   "cell_type": "markdown",
   "metadata": {},
   "source": [
    "<h5> Exibindo todo conteúdo dentro do .txt utilizando método read() </h5>"
   ]
  },
  {
   "cell_type": "code",
   "execution_count": null,
   "metadata": {},
   "outputs": [],
   "source": [
    "arquivo = open (\"C:\\\\Users\\\\felip\\\\Desktop\\\\pasta-arquivo\\\\arquivo.txt\")\n",
    "#para printar o conteúdo devemos usar um método chamado read\n",
    "print(arquivo.read())\n",
    "arquivo.close()\n"
   ]
  },
  {
   "cell_type": "markdown",
   "metadata": {},
   "source": [
    "<h5> Exibindo apenas a primeira e segunda linha do conteúdo que está dentro do .txt, utilizando método readline() </h5>"
   ]
  },
  {
   "cell_type": "code",
   "execution_count": null,
   "metadata": {},
   "outputs": [],
   "source": [
    "arquivo = open(\"C:\\\\Users\\\\felip\\\\Desktop\\\\pasta-arquivo\\\\arquivo.txt\")\n",
    "# printando a primeira linha do arquivo\n",
    "print(arquivo.readline())\n",
    "# printando a segunda linha do arquivo\n",
    "print(arquivo.readline())\n",
    "arquivo.close()"
   ]
  },
  {
   "cell_type": "markdown",
   "metadata": {},
   "source": [
    "<h5> Percorrendo todas as linhas do .txt utilizando for e método readlines() </h5>"
   ]
  },
  {
   "cell_type": "code",
   "execution_count": null,
   "metadata": {},
   "outputs": [],
   "source": [
    "arquivo = open(\"C:\\\\Users\\\\felip\\\\Desktop\\\\pasta-arquivo\\\\arquivo.txt\")\n",
    "# com isso, podemos usar um loop que percorre linha a linha: método readlines e for\n",
    "for linha in arquivo.readlines():\n",
    "    print(linha)\n",
    "arquivo.close()"
   ]
  },
  {
   "cell_type": "markdown",
   "metadata": {},
   "source": [
    "<h5> Transformando conteúdo do .txt em uma lista </h5>"
   ]
  },
  {
   "cell_type": "code",
   "execution_count": null,
   "metadata": {},
   "outputs": [],
   "source": [
    "#usando a função open para criar um objeto do tipo arquivo\n",
    "arquivo = open(\"C:\\\\Users\\\\felip\\\\Desktop\\\\pasta-arquivo\\\\arquivo.txt\")\n",
    "\n",
    "#Passando o conteúdo do arquivo para uma lista\n",
    "linhas_do_arquivo = arquivo.readlines()\n",
    "\n",
    "#comprovando o tipo do objeto linhas_do_arquivo\n",
    "print(\"Ei! Eu consegui transformar meu arquivo em uma {} \".format(type(linhas_do_arquivo)))\n",
    "\n",
    "#colocando a lista em ordem alfabética\n",
    "linhas_do_arquivo.sort()\n",
    "\n",
    "#Exibindo nossa lista, agora em ordem alfabética\n",
    "print(linhas_do_arquivo)\n",
    "\n",
    "arquivo.close()"
   ]
  },
  {
   "cell_type": "markdown",
   "metadata": {},
   "source": [
    "<h5> Criando um novo arquivo .txt e adicionando uma string nele. </h5>"
   ]
  },
  {
   "cell_type": "code",
   "execution_count": null,
   "metadata": {},
   "outputs": [],
   "source": [
    "#Criando novo arquivo txt\n",
    "arquivo2 = open(\"C:\\\\Users\\\\felip\\\\Desktop\\\\pasta-arquivo\\\\novo_arquivo.txt\", \"w\", encoding=\"UTF-8\")\n",
    "conteudo = \"Felipe e Ana são um belo casal\\n\"\n",
    "conteudo2 = \"Felipe e Ana são um belo casal, de verdade\"\n",
    "arquivo2.write(conteudo)\n",
    "arquivo2.write(conteudo2)\n",
    "arquivo2.close()\n",
    "# IMPRIMINDO\n",
    "arquivo2 = open(\"C:\\\\Users\\\\felip\\\\Desktop\\\\pasta-arquivo\\\\novo_arquivo.txt\", \"r\", encoding=\"UTF-8\")\n",
    "print(arquivo2.read())  \n",
    "arquivo2.close()"
   ]
  },
  {
   "cell_type": "markdown",
   "metadata": {},
   "source": [
    "além do caminho do arquivo, a função open pode indicar a forma como esse arquivo sera manipulado pelo nosso script a partir dos seguintes parâmetros\n",
    "<br>\"w\" representa write = escrever; \n",
    "<br>encoding refere-se ao sistema de caracteres\n",
    "<br>\"r\" = read: abrir para leitura, (padrão)\n",
    "<br>\"x\": abrir para criação de arquivo, gerando uma falha se existir um arquivo de mesmo nome\n",
    "<br>\"a\": abrindo para a escrita, anexando o novo conteúdo ao final do conteúdo já existente no arquivo\n",
    "<br>\"b\": abre em modo binário\n",
    "<br>\"t\": abrir em modo de texto (padrão)\n",
    "<br>\"+\": abrir para atualização (escrita e leitura)"
   ]
  },
  {
   "cell_type": "code",
   "execution_count": null,
   "metadata": {},
   "outputs": [],
   "source": [
    "arquivo2 = open(\"C:\\\\Users\\\\felip\\\\Desktop\\\\pasta-arquivo\\\\novo_arquivo.txt\", \"r\", encoding=\"UTF-8\")\n",
    "print(arquivo2.read())  \n",
    "arquivo2.close()"
   ]
  }
 ],
 "metadata": {
  "interpreter": {
   "hash": "83b617c66aa9ed92efeb8629453f4b5eb61ab11a86f5ad7ba589d02897e9d812"
  },
  "kernelspec": {
   "display_name": "Python 3.10.4 64-bit",
   "language": "python",
   "name": "python3"
  },
  "language_info": {
   "codemirror_mode": {
    "name": "ipython",
    "version": 3
   },
   "file_extension": ".py",
   "mimetype": "text/x-python",
   "name": "python",
   "nbconvert_exporter": "python",
   "pygments_lexer": "ipython3",
   "version": "3.10.4"
  },
  "orig_nbformat": 4
 },
 "nbformat": 4,
 "nbformat_minor": 2
}
