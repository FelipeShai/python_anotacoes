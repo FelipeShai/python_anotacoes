{
 "cells": [
  {
   "cell_type": "code",
   "execution_count": null,
   "metadata": {},
   "outputs": [],
   "source": [
    "# o formato json é um dos padrões mais adotados para trafegar dados entre sistemas diferentes pq ele funciona no formato chave e valor\n",
    "# logo, podemos usar um dicionário (que existe no python) e transformar em json e gravar esses dados em um arquivo\n",
    "\n",
    "#é necessário importar esse pacote para usufruir de suas funcionalidades\n",
    "import json\n",
    "\n",
    "#vamos criar um dicionário para converter para json\n",
    "contatos = {\n",
    "    \"Fulano\":\n",
    "        {\"Email\":\"aaaaaaa@abc.com.br\",\n",
    "            \"Celular\":\"123456\"},\n",
    "    \"Siclano\":  \n",
    "        {\"Email\":\"bbbbbb@abc.com.br\",\n",
    "        \"Celular\":\"7891011\"},\n",
    "    \"Beltrano\":\n",
    "        {\"Email\":\"ccccccc@abc.com.br\",\n",
    "         \"Celular\":\"12131415\"}\n",
    "    }\n",
    "# podemos fazer a conversão de um dicionário em um formato de string utilizando o método dumps. que por sua vez é utilizado pelo pacote json\n",
    "# o \"s\" do dumps representa \"string\"\n",
    "print(json.dumps(contatos))\n",
    "\n",
    "# podemos identar o dicionário utilizando o método indent\n",
    "print(json.dumps(contatos, indent=4))\n",
    "\n",
    "# open + atributo \"w\" = percorre o caminho e cria um arquivo, no caso: dicionario1.json\n",
    "# enconding é padrão de caracteres: UTF-8 \n",
    "arquivo = open(\"C:\\\\Users\\\\felip\\\\Desktop\\\\pasta-arquivo\\\\manipulando_json\\\\dicionario1.json\",\"w\",encoding=\"UTF-8\")\n",
    "\n",
    "# guardamos o dicionario convertido em string na variável \"conteudo\" \n",
    "# quem faz a conversão para string é o método dumps disponível no pacote json\n",
    "# identação com 2 de espaçamento antes do texto começar em cada linha\n",
    "conteudo = json.dumps(contatos,indent=2)\n",
    "\n",
    "# transcremos o conteúdo dentro da variável \"arquivo\", que guarda o caminho para o arquivo json criado no diretório \"manipulando_json\"\n",
    "arquivo.write(conteudo)\n",
    "# fechamos o arquivo\n",
    "arquivo.close()"
   ]
  }
 ],
 "metadata": {
  "interpreter": {
   "hash": "83b617c66aa9ed92efeb8629453f4b5eb61ab11a86f5ad7ba589d02897e9d812"
  },
  "kernelspec": {
   "display_name": "Python 3.10.4 64-bit",
   "language": "python",
   "name": "python3"
  },
  "language_info": {
   "codemirror_mode": {
    "name": "ipython",
    "version": 3
   },
   "file_extension": ".py",
   "mimetype": "text/x-python",
   "name": "python",
   "nbconvert_exporter": "python",
   "pygments_lexer": "ipython3",
   "version": "3.10.4"
  },
  "orig_nbformat": 4
 },
 "nbformat": 4,
 "nbformat_minor": 2
}
